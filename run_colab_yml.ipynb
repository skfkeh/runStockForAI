{
  "nbformat": 4,
  "nbformat_minor": 0,
  "metadata": {
    "colab": {
      "provenance": [],
      "authorship_tag": "ABX9TyONmfMfaUjXy+IDQyIqvXjc",
      "include_colab_link": true
    },
    "kernelspec": {
      "name": "python3",
      "display_name": "Python 3"
    },
    "language_info": {
      "name": "python"
    }
  },
  "cells": [
    {
      "cell_type": "markdown",
      "metadata": {
        "id": "view-in-github",
        "colab_type": "text"
      },
      "source": [
        "<a href=\"https://colab.research.google.com/github/skfkeh/runStockForAI/blob/main/run_colab_yml.ipynb\" target=\"_parent\"><img src=\"https://colab.research.google.com/assets/colab-badge.svg\" alt=\"Open In Colab\"/></a>"
      ]
    },
    {
      "cell_type": "code",
      "execution_count": null,
      "metadata": {
        "id": "9dVe_ZsxdcoU"
      },
      "outputs": [],
      "source": [
        "name: Run Colab Notebook\n",
        "\n",
        "on:\n",
        "  schedule:\n",
        "    - cron: \"30 23 * * *\"   # 한국시간 8:30 → UTC 23:30\n",
        "  workflow_dispatch:\n",
        "\n",
        "jobs:\n",
        "  run:\n",
        "    runs-on: ubuntu-latest\n",
        "    steps:\n",
        "      - name: Checkout\n",
        "        uses: actions/checkout@v2\n",
        "\n",
        "      - name: Run Colab\n",
        "        uses: machine-learning-apps/colab-action@master\n",
        "        with:\n",
        "          github-token: ${{ secrets.GITHUB_TOKEN }}\n",
        "          colab-file: \"notebooks/your_notebook.ipynb\"\n"
      ]
    }
  ]
}